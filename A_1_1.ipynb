{
 "cells": [
  {
   "cell_type": "code",
   "execution_count": 1,
   "metadata": {},
   "outputs": [
    {
     "name": "stdout",
     "output_type": "stream",
     "text": [
      "选择第 49 张信用评分卡的第 2 个阈值时最终收入最多\n"
     ]
    },
    {
     "name": "stderr",
     "output_type": "stream",
     "text": [
      "C:\\Users\\Administrator\\AppData\\Local\\Temp\\ipykernel_33248\\3494587703.py:80: FutureWarning: Series.__getitem__ treating keys as positions is deprecated. In a future version, integer keys will always be treated as labels (consistent with DataFrame behavior). To access a value by position, use `ser.iloc[pos]`\n",
      "  if row[j] == 1:\n"
     ]
    }
   ],
   "source": [
    "### 问题一\n",
    "## 1.常规思路\n",
    "\n",
    "import numpy as np\n",
    "from pyqubo import Array, Constraint, Placeholder\n",
    "import pandas as pd\n",
    "from openjij import SQASampler\n",
    "\n",
    "# 贷款利息收益率\n",
    "R = 0.08\n",
    "\n",
    "# 约束系数 M\n",
    "M = 2\n",
    "\n",
    "# matrix shape\n",
    "N1 = 10\n",
    "N2 = 100\n",
    "\n",
    "# 读取附件 csv\n",
    "ht = pd.read_csv('data_100.csv') \n",
    "hv = ht.values\n",
    "h1 = []\n",
    "t1 = []\n",
    "\n",
    "# 建立 t, h Array\n",
    "for o in range(hv.shape[1]):\n",
    "    if (o%2 == 0):\n",
    "        t1.append(hv[:,o])\n",
    "    else:\n",
    "        h1.append(hv[:,o])\n",
    "\n",
    "t = np.array([np.empty(N1)]*N2)\n",
    "h = np.array([np.empty(N1)]*N2)\n",
    "\n",
    "for k in range(N2):\n",
    "    for l in range(N1):\n",
    "        t[k][l] = t1[k][l]\n",
    "        h[k][l] = h1[k][l]\n",
    "\n",
    "# 建立 x array\n",
    "x = Array.create('x', (N2, N1), 'BINARY')\n",
    "\n",
    "## 定义约束条件和目标函数\n",
    "# 约束条件 1:\n",
    "# 在 100 张卡中 选且仅能选 1 张信用评分卡（共计出现一个 1）\n",
    "H1 = np.sum([(np.sum([x[i, j] for i in range(N2) for j in range(N1)]) - 1)**2])\n",
    "\n",
    "# 计算 H0(Loss)\n",
    "H0 = np.sum([(1.08 * h[i, j] * t[i, j] - R * t[i, j]) * x[i, j]\\\n",
    "            for i in range(N2) for j in range(N1)])\n",
    "\n",
    "# 目标函数\n",
    "H = H0 + Placeholder('M') * Constraint(H1, label='H1')\n",
    "model = H.compile()\n",
    "\n",
    "feed_dict = {'M': M}\n",
    "\n",
    "# 求出 QUBO 矩阵\n",
    "qubo, offset = model.to_qubo(feed_dict=feed_dict)\n",
    "\n",
    "\n",
    "# Sample(使用 SQASampler 模拟退火)\n",
    "sampler = SQASampler()\n",
    "\n",
    "# num_reads\n",
    "R = 2000\n",
    "\n",
    "sampleset = sampler.sample_qubo(qubo, num_reads=R)\n",
    "\n",
    "# Save to ./xx/xxx_x_xxx.csv\n",
    "save_path = './save_csv/ans_1_1_{}iter_2.csv'.format(R)\n",
    "save = pd.DataFrame(sampleset)\n",
    "save.to_csv(save_path)\n",
    "\n",
    "# 输出结果\n",
    "index_card = []\n",
    "\n",
    "for i, row in save.iloc[[0],:].iterrows():\n",
    "    for j in range(len(row)):\n",
    "        if row[j] == 1:\n",
    "            outrow = row.index[j]\n",
    "            index_card.append(row.index[j].split('x[')[1])\n",
    "\n",
    "ans_1 = index_card[0].split('][')[0]\n",
    "ans_2 = index_card[0].split('][')[1].split(']')[0]\n",
    "print('选择第 {} 张信用评分卡的第 {} 个阈值时最终收入最多'.format(int(ans_1) + 1, int(ans_2) + 1))"
   ]
  }
 ],
 "metadata": {
  "kernelspec": {
   "display_name": "base",
   "language": "python",
   "name": "python3"
  },
  "language_info": {
   "codemirror_mode": {
    "name": "ipython",
    "version": 3
   },
   "file_extension": ".py",
   "mimetype": "text/x-python",
   "name": "python",
   "nbconvert_exporter": "python",
   "pygments_lexer": "ipython3",
   "version": "3.9.18"
  },
  "orig_nbformat": 4
 },
 "nbformat": 4,
 "nbformat_minor": 2
}
